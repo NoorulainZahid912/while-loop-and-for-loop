{
 "cells": [
  {
   "cell_type": "code",
   "execution_count": 1,
   "id": "1dcef0c4-0c66-49dd-8b30-34c8440e445c",
   "metadata": {},
   "outputs": [],
   "source": [
    "# NOOR UL AIN ZAHID\n",
    "# FA24-BBD-069\n",
    "# SECTION A"
   ]
  },
  {
   "cell_type": "code",
   "execution_count": null,
   "id": "7fc796cf-05f0-45dc-a1bc-5beedf685168",
   "metadata": {},
   "outputs": [],
   "source": [
    "# 1.  Counting with While Loop  \n",
    "#  Write a program that uses a while loop to count from 1 to 10 and print each number.\n",
    "# Initialize the starting number\n",
    "count = 1\n",
    "\n",
    "# Use a while loop to count from 1 to 10\n",
    "while count <= 10:\n",
    "    print(count)\n",
    "    count += 1\n"
   ]
  },
  {
   "cell_type": "code",
   "execution_count": 16,
   "id": "def0e316-b1a1-459b-b213-d5d47ad6decd",
   "metadata": {},
   "outputs": [
    {
     "name": "stdout",
     "output_type": "stream",
     "text": [
      "2\n",
      "4\n",
      "6\n",
      "8\n",
      "10\n",
      "12\n",
      "14\n",
      "16\n",
      "18\n",
      "20\n"
     ]
    }
   ],
   "source": [
    "# 2. Even Numbers  \n",
    "#  Create a while loop to print all even numbers from 1 to 20.\n",
    "# Initialize the starting number\n",
    "num = 2\n",
    "\n",
    "# Use a while loop to print even numbers from 1 to 20\n",
    "while num <= 20:\n",
    "    print(num)\n",
    "    num += 2\n"
   ]
  },
  {
   "cell_type": "code",
   "execution_count": 18,
   "id": "d6995f86-b675-48aa-ba6e-bf9cfbb676b1",
   "metadata": {},
   "outputs": [
    {
     "name": "stdout",
     "output_type": "stream",
     "text": [
      "The sum of the first 10 natural numbers is: 55\n"
     ]
    }
   ],
   "source": [
    "# 3. Sum of Natural Numbers\n",
    " #  Write a program using a while loop to calculate the sum of the first 10 natural numbers.\n",
    "# Initialize the starting number and the sum\n",
    "num = 1\n",
    "sum_of_numbers = 0\n",
    "\n",
    "# Use a while loop to calculate the sum of the first 10 natural numbers\n",
    "while num <= 10:\n",
    "    sum_of_numbers += num\n",
    "    num += 1\n",
    "\n",
    "print(\"The sum of the first 10 natural numbers is:\", sum_of_numbers)\n"
   ]
  },
  {
   "cell_type": "code",
   "execution_count": 20,
   "id": "f38a0669-867f-455e-831e-890f7458f5d8",
   "metadata": {},
   "outputs": [
    {
     "name": "stdin",
     "output_type": "stream",
     "text": [
      "Enter a number (enter a negative number to stop):  2\n",
      "Enter a number (enter a negative number to stop):  -2\n"
     ]
    },
    {
     "name": "stdout",
     "output_type": "stream",
     "text": [
      "The total sum of the numbers entered is: 2\n"
     ]
    }
   ],
   "source": [
    "# 4. User Input with Condition  \n",
    "  # Write a program that prompts the user to enter numbers. The loop should keep asking for numbers until the user enters a negative number. When the loop exits, print the total sum of the numbers entered (excluding the negative number).\n",
    "# Initialize the sum\n",
    "total_sum = 0\n",
    "\n",
    "while True:\n",
    "    # Prompt the user to enter a number\n",
    "    num = int(input(\"Enter a number (enter a negative number to stop): \"))\n",
    "    \n",
    "    # Check if the entered number is negative\n",
    "    if num < 0:\n",
    "        break  # Exit the loop if the number is negative\n",
    "    \n",
    "    # Add the number to the total sum\n",
    "    total_sum += num\n",
    "\n",
    "# Print the total sum of the numbers entered\n",
    "print(\"The total sum of the numbers entered is:\", total_sum)\n"
   ]
  },
  {
   "cell_type": "code",
   "execution_count": null,
   "id": "2f7d8cbe-a196-4bf7-b9bf-809bd537e3ec",
   "metadata": {},
   "outputs": [
    {
     "name": "stdout",
     "output_type": "stream",
     "text": [
      "Welcome to the Number Guessing Game!\n",
      "Guess a number between 1 and 100.\n"
     ]
    }
   ],
   "source": [
    "# 5. Number Guessing Game  \n",
    "  # Create a guessing game where the user has to guess a number between 1 and 100. Use a while loop to allow the user to keep guessing until they get it right. Provide hints if the guess is too high or too low.\n"
   ]
  },
  {
   "cell_type": "code",
   "execution_count": null,
   "id": "4f5aafe0-dc90-4818-908c-18e377568e5a",
   "metadata": {},
   "outputs": [],
   "source": [
    "# 6. Factorial Calculation\n",
    "  # Write a program to calculate the factorial of a given positive integer using a while loop. \n",
    "# Prompt the user to enter a positive integer\n",
    "number = int(input(\"Enter a positive integer: \"))\n",
    "\n",
    "# Initialize the factorial result and a counter variable\n",
    "factorial = 1\n",
    "i = 1\n",
    "\n",
    "# Use a while loop to calculate the factorial\n",
    "while i <= number:\n",
    "    factorial *= i\n",
    "    i += 1\n",
    "\n",
    "# Print the factorial result\n",
    "print(f\"The factorial of {number} is: {factorial}\")\n"
   ]
  },
  {
   "cell_type": "code",
   "execution_count": null,
   "id": "9ded99ec-b7b4-4e76-953e-0bf8324c6395",
   "metadata": {},
   "outputs": [],
   "source": [
    "# 7. Average Calculator\n",
    "  # Write a program that uses a while loop to take in a series of numbers from the user. The loop should stop when the user enters \"done\". Calculate and print the average of the entered numbers.\n",
    "# Initialize the sum and count variables\n",
    "total_sum = 0\n",
    "count = 0\n",
    "\n",
    "print(\"Enter numbers to calculate the average. Type 'done' to finish.\")\n",
    "\n",
    "# Use a while loop to take inputs until \"done\" is entered\n",
    "while True:\n",
    "    user_input = input(\"Enter a number (or type 'done' to finish): \")\n",
    "    \n",
    "    # Check if the input is \"done\"\n",
    "    if user_input.lower() == \"done\":\n",
    "        break\n",
    "    \n",
    "    # Try to convert the input to a float and add to total sum\n",
    "    try:\n",
    "        number = float(user_input)\n",
    "        total_sum += number\n",
    "        count += 1\n",
    "    except ValueError:\n",
    "        print(\"Invalid input. Please enter a number or 'done'.\")\n",
    "\n",
    "# Calculate and print the average if there were any valid entries\n",
    "if count > 0:\n",
    "    average = total_sum / count\n",
    "    print(\"The average of the entered numbers is:\", average)\n",
    "else:\n",
    "    print(\"No numbers were entered.\")\n"
   ]
  },
  {
   "cell_type": "code",
   "execution_count": 13,
   "id": "31384326-d01c-4fa4-b434-f5dd1762f600",
   "metadata": {},
   "outputs": [],
   "source": [
    "# 8. Fibonacci Sequence  \n",
    "  # Using a while loop, print the Fibonacci sequence up to a specified number n (where n is an integer input by the user).\n",
    "# Ask the user for the number n\n",
    "n = int(input(\"Enter a positive integer to specify the limit for the Fibonacci sequence: \"))\n",
    "\n",
    "# Initialize the first two Fibonacci numbers\n",
    "a, b = 0, 1\n",
    "\n",
    "# Print the Fibonacci sequence up to n\n",
    "print(\"Fibonacci sequence up to\", n, \":\")\n",
    "while a <= n:\n",
    "    print(a, end=\" \")\n",
    "    a, b = b, a + b"
   ]
  },
  {
   "cell_type": "code",
   "execution_count": null,
   "id": "296521b1-ff43-4fb4-99bf-93585ff380cf",
   "metadata": {},
   "outputs": [],
   "source": [
    "# for loop exercise\n",
    "# List of favorite movies\n",
    "favorite_movies = [\"Inception\", \"The Matrix\", \"Interstellar\", \"The Shawshank Redemption\", \"The Dark Knight\"]\n",
    "\n",
    "# Basic iteration to print each movie title\n",
    "print(\"List of favorite movies:\")\n",
    "for movie in favorite_movies:\n",
    "    print(movie)\n",
    "\n",
    "# Modified iteration to print the index and each movie title\n",
    "print(\"\\nList of favorite movies with indices:\")\n",
    "for index, movie in enumerate(favorite_movies):\n",
    "    print(f\"{index}: {movie}\")\n"
   ]
  },
  {
   "cell_type": "code",
   "execution_count": null,
   "id": "d8aa89bf-22b7-42b0-9af1-47135de2a6c4",
   "metadata": {},
   "outputs": [],
   "source": [
    "# String containing your full name\n",
    "full_name = \"John Doe\"\n",
    "\n",
    "# Iterate over the string and print each character on a new line\n",
    "print(\"Each character in the full name:\")\n",
    "for char in full_name:\n",
    "    print(char)\n",
    "\n",
    "# Count the number of vowels in the string\n",
    "vowels = \"aeiouAEIOU\"\n",
    "vowel_count = 0\n",
    "\n",
    "for char in full_name:\n",
    "    if char in vowels:\n",
    "        vowel_count += 1\n",
    "\n",
    "# Print the number of vowels\n",
    "print(\"\\nNumber of vowels in the full name:\", vowel_count)\n"
   ]
  },
  {
   "cell_type": "code",
   "execution_count": null,
   "id": "714e7589-15ef-493e-877a-995394b39d38",
   "metadata": {},
   "outputs": [],
   "source": [
    "# Dictionary of students and their corresponding grades\n",
    "student_grades = {\n",
    "    \"Alice\": 92,\n",
    "    \"Bob\": 85,\n",
    "    \"Charlie\": 78,\n",
    "    \"David\": 95,\n",
    "    \"Eve\": 88\n",
    "}\n",
    "\n",
    "# Iterate over the dictionary and print the name and grade of each student\n",
    "print(\"Student Grades:\")\n",
    "for student, grade in student_grades.items():\n",
    "    print(f\"{student}: {grade}\")\n",
    "\n",
    "# Find the student with the highest grade\n",
    "highest_grade_student = max(student_grades, key=student_grades.get)\n",
    "highest_grade = student_grades[highest_grade_student]\n",
    "\n",
    "# Print the student with the highest grade\n",
    "print(f\"\\nThe student with the highest grade is {highest_grade_student} with a grade of {highest_grade}.\")\n"
   ]
  },
  {
   "cell_type": "code",
   "execution_count": null,
   "id": "ca05f998-6fe8-4947-acda-f6b9f8678dd9",
   "metadata": {},
   "outputs": [],
   "source": [
    "# 2D list (matrix) representing a matrix\n",
    "matrix = [\n",
    "    [1, 2, 3],\n",
    "    [4, 5, 6],\n",
    "    [7, 8, 9]\n",
    "]\n",
    "\n",
    "# Iterate over the matrix and print each element\n",
    "print(\"Matrix elements:\")\n",
    "for row in matrix:\n",
    "    for element in row:\n",
    "        print(element, end=\" \")\n",
    "    print()  # Newline after each row\n",
    "\n",
    "# Calculate the sum of all elements in the matrix\n",
    "total_sum = 0\n",
    "for row in matrix:\n",
    "    for element in row:\n",
    "        total_sum += element\n",
    "\n",
    "# Print the total sum of all elements in the matrix\n",
    "print(f\"\\nThe sum of all elements in the matrix is: {total_sum}\")\n"
   ]
  },
  {
   "cell_type": "code",
   "execution_count": null,
   "id": "56d508e0-1318-440c-b171-c598227bd349",
   "metadata": {},
   "outputs": [],
   "source": [
    "# Using a for loop to create a list of squares of numbers from 1 to 10\n",
    "squares = []\n",
    "for num in range(1, 11):\n",
    "    squares.append(num ** 2)\n",
    "print(\"Squares using for loop:\", squares)\n",
    "\n",
    "# Using list comprehension to create a list of squares of numbers from 1 to 10\n",
    "squares_comprehension = [num ** 2 for num in range(1, 11)]\n",
    "\n",
    "print(\"Squares using list comprehension:\", squares_comprehension)\n"
   ]
  },
  {
   "cell_type": "code",
   "execution_count": null,
   "id": "865b7dbf-57a8-4a68-9bf3-13d63e550faa",
   "metadata": {},
   "outputs": [],
   "source": []
  }
 ],
 "metadata": {
  "kernelspec": {
   "display_name": "Python 3 (ipykernel)",
   "language": "python",
   "name": "python3"
  },
  "language_info": {
   "codemirror_mode": {
    "name": "ipython",
    "version": 3
   },
   "file_extension": ".py",
   "mimetype": "text/x-python",
   "name": "python",
   "nbconvert_exporter": "python",
   "pygments_lexer": "ipython3",
   "version": "3.12.4"
  }
 },
 "nbformat": 4,
 "nbformat_minor": 5
}
